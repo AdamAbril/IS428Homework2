{
 "cells": [
  {
   "cell_type": "markdown",
   "id": "157d8129",
   "metadata": {},
   "source": [
    "## Create an HTML File of red_wine.csv dataset"
   ]
  },
  {
   "cell_type": "code",
   "execution_count": 3,
   "id": "154b4623",
   "metadata": {},
   "outputs": [
    {
     "data": {
      "application/vnd.jupyter.widget-view+json": {
       "model_id": "04cd29c5ebe145f1a0cc2c47c556d5a5",
       "version_major": 2,
       "version_minor": 0
      },
      "text/plain": [
       "Summarize dataset:   0%|          | 0/5 [00:00<?, ?it/s]"
      ]
     },
     "metadata": {},
     "output_type": "display_data"
    },
    {
     "data": {
      "application/vnd.jupyter.widget-view+json": {
       "model_id": "652eacc72f8a433cab59b0796fc9b446",
       "version_major": 2,
       "version_minor": 0
      },
      "text/plain": [
       "Generate report structure:   0%|          | 0/1 [00:00<?, ?it/s]"
      ]
     },
     "metadata": {},
     "output_type": "display_data"
    },
    {
     "data": {
      "application/vnd.jupyter.widget-view+json": {
       "model_id": "f20a909e63e1473f8fd2d36a3afe5241",
       "version_major": 2,
       "version_minor": 0
      },
      "text/plain": [
       "Render HTML:   0%|          | 0/1 [00:00<?, ?it/s]"
      ]
     },
     "metadata": {},
     "output_type": "display_data"
    },
    {
     "data": {
      "application/vnd.jupyter.widget-view+json": {
       "model_id": "5d633c0e61f0494d831af495c431afff",
       "version_major": 2,
       "version_minor": 0
      },
      "text/plain": [
       "Export report to file:   0%|          | 0/1 [00:00<?, ?it/s]"
      ]
     },
     "metadata": {},
     "output_type": "display_data"
    }
   ],
   "source": [
    "import pandas as pd\n",
    "from ydata_profiling import ProfileReport\n",
    "\n",
    "# Load the red-wine.csv dataset into a pandas DataFrame\n",
    "file_path = 'red_wine.csv'\n",
    "data = pd.read_csv(file_path)\n",
    "\n",
    "# Create a ProfileReport object\n",
    "profile = ProfileReport(data)\n",
    "\n",
    "# Generate the HTML report\n",
    "profile.to_file(\"red_wine_report.html\")\n"
   ]
  },
  {
   "cell_type": "markdown",
   "id": "748173dd",
   "metadata": {},
   "source": [
    "## Accuracy of Majority Class Baseline Model using 10-Fold Cross-Validation"
   ]
  },
  {
   "cell_type": "code",
   "execution_count": 25,
   "id": "d7888e8a",
   "metadata": {},
   "outputs": [
    {
     "name": "stdout",
     "output_type": "stream",
     "text": [
      "Accuracy scores for each fold: [0.5344827586206896, 0.5263157894736842, 0.5263157894736842, 0.5263157894736842, 0.5263157894736842, 0.5263157894736842, 0.5263157894736842, 0.5263157894736842, 0.5263157894736842, 0.543859649122807]\n",
      "Mean Accuracy: 0.53\n"
     ]
    }
   ],
   "source": [
    "import pandas as pd\n",
    "from sklearn.model_selection import StratifiedKFold\n",
    "from sklearn.metrics import accuracy_score\n",
    "\n",
    "# Step 1: Load the dataset\n",
    "file_path = \"/Users/BenAbril/Desktop/IS 428/red_wine.csv\"\n",
    "data = pd.read_csv(file_path)\n",
    "\n",
    "# Assuming you have a target column named 'target_column_name', replace it with the actual column name.\n",
    "target_column_name = 'type'\n",
    "\n",
    "# Extract features and target\n",
    "X = data.drop(columns=[target_column_name])\n",
    "y = data[target_column_name]\n",
    "\n",
    "# Step 2: Identify the majority class\n",
    "majority_class = y.value_counts().idxmax()\n",
    "\n",
    "# Step 3: Create a baseline model that always predicts the majority class\n",
    "def majority_class_baseline(X):\n",
    "    return [majority_class] * len(X)\n",
    "\n",
    "# Step 4: Perform 10-fold cross-validation and calculate accuracy\n",
    "cv = StratifiedKFold(n_splits=10, shuffle=True, random_state=42)\n",
    "\n",
    "accuracy_scores = []\n",
    "\n",
    "for train_index, test_index in cv.split(X, y):\n",
    "    X_train, X_test = X.iloc[train_index], X.iloc[test_index]\n",
    "    y_train, y_test = y.iloc[train_index], y.iloc[test_index]\n",
    "    \n",
    "    baseline_predictions = majority_class_baseline(X_test)\n",
    "    accuracy = accuracy_score(y_test, baseline_predictions)\n",
    "    accuracy_scores.append(accuracy)\n",
    "\n",
    "# Print accuracy scores for each fold\n",
    "print(f'Accuracy scores for each fold: {accuracy_scores}')\n",
    "print(f'Mean Accuracy: {sum(accuracy_scores) / len(accuracy_scores):.2f}')\n"
   ]
  },
  {
   "cell_type": "markdown",
   "id": "ae0e53ae",
   "metadata": {},
   "source": [
    "## AUC of Random Classifier Baseline Model using 10-Fold Cross-Validation"
   ]
  },
  {
   "cell_type": "code",
   "execution_count": 27,
   "id": "453157c8",
   "metadata": {},
   "outputs": [
    {
     "name": "stdout",
     "output_type": "stream",
     "text": [
      "AUC scores for each fold: [0.5424133811230585, 0.4148148148148148, 0.4888888888888889, 0.42098765432098767, 0.4271604938271605, 0.5382716049382716, 0.4641975308641975, 0.5148148148148148, 0.345679012345679, 0.36724565756823824]\n",
      "Mean AUC: 0.45\n"
     ]
    }
   ],
   "source": [
    "import pandas as pd\n",
    "import numpy as np\n",
    "from sklearn.model_selection import StratifiedKFold\n",
    "from sklearn.metrics import roc_auc_score\n",
    "\n",
    "# Step 1: Load the dataset\n",
    "data = pd.read_csv(file_path)\n",
    "\n",
    "# Assuming you have a binary target column named 'target_column_name', replace it with the actual column name.\n",
    "target_column_name = 'type'\n",
    "\n",
    "# Extract features and target\n",
    "X = data.drop(columns=[target_column_name])\n",
    "y = data[target_column_name]\n",
    "\n",
    "# Step 2: Perform 10-fold cross-validation and calculate AUC\n",
    "cv = StratifiedKFold(n_splits=10, shuffle=True, random_state=42)\n",
    "\n",
    "auc_scores = []\n",
    "\n",
    "for train_index, test_index in cv.split(X, y):\n",
    "    X_train, X_test = X.iloc[train_index], X.iloc[test_index]\n",
    "    y_train, y_test = y.iloc[train_index], y.iloc[test_index]\n",
    "\n",
    "    # Generate random predictions for the testing set\n",
    "    random_predictions = np.random.rand(len(y_test))\n",
    "\n",
    "    # Calculate the AUC for the random classifier\n",
    "    auc = roc_auc_score(y_test, random_predictions)\n",
    "    auc_scores.append(auc)\n",
    "\n",
    "# Print AUC scores for each fold\n",
    "print(f'AUC scores for each fold: {auc_scores}')\n",
    "print(f'Mean AUC: {sum(auc_scores) / len(auc_scores):.2f}')\n"
   ]
  },
  {
   "cell_type": "markdown",
   "id": "d48bfa9c",
   "metadata": {},
   "source": [
    "## Performance Metrics of Logistic Regression Model using 10-Fold Cross-Validation"
   ]
  },
  {
   "cell_type": "code",
   "execution_count": 21,
   "id": "f2818ac4",
   "metadata": {},
   "outputs": [
    {
     "name": "stdout",
     "output_type": "stream",
     "text": [
      "Accuracy: 0.78\n",
      "Precision: 0.78\n",
      "Recall: 0.83\n",
      "F1-score: nan\n"
     ]
    },
    {
     "name": "stderr",
     "output_type": "stream",
     "text": [
      "/Users/BenAbril/anaconda3/lib/python3.11/site-packages/sklearn/model_selection/_validation.py:842: UserWarning: Scoring failed. The score on this train-test partition for these parameters will be set to nan. Details: \n",
      "Traceback (most recent call last):\n",
      "  File \"/Users/BenAbril/anaconda3/lib/python3.11/site-packages/sklearn/metrics/_scorer.py\", line 136, in __call__\n",
      "    score = scorer._score(\n",
      "            ^^^^^^^^^^^^^^\n",
      "  File \"/Users/BenAbril/anaconda3/lib/python3.11/site-packages/sklearn/metrics/_scorer.py\", line 355, in _score\n",
      "    return self._sign * self._score_func(y_true, y_pred, **scoring_kwargs)\n",
      "                        ^^^^^^^^^^^^^^^^^^^^^^^^^^^^^^^^^^^^^^^^^^^^^^^^^^\n",
      "  File \"/Users/BenAbril/anaconda3/lib/python3.11/site-packages/sklearn/utils/_param_validation.py\", line 211, in wrapper\n",
      "    return func(*args, **kwargs)\n",
      "           ^^^^^^^^^^^^^^^^^^^^^\n",
      "  File \"/Users/BenAbril/anaconda3/lib/python3.11/site-packages/sklearn/metrics/_classification.py\", line 1238, in f1_score\n",
      "    return fbeta_score(\n",
      "           ^^^^^^^^^^^^\n",
      "  File \"/Users/BenAbril/anaconda3/lib/python3.11/site-packages/sklearn/utils/_param_validation.py\", line 184, in wrapper\n",
      "    return func(*args, **kwargs)\n",
      "           ^^^^^^^^^^^^^^^^^^^^^\n",
      "  File \"/Users/BenAbril/anaconda3/lib/python3.11/site-packages/sklearn/metrics/_classification.py\", line 1411, in fbeta_score\n",
      "    _, _, f, _ = precision_recall_fscore_support(\n",
      "                 ^^^^^^^^^^^^^^^^^^^^^^^^^^^^^^^^\n",
      "  File \"/Users/BenAbril/anaconda3/lib/python3.11/site-packages/sklearn/utils/_param_validation.py\", line 184, in wrapper\n",
      "    return func(*args, **kwargs)\n",
      "           ^^^^^^^^^^^^^^^^^^^^^\n",
      "  File \"/Users/BenAbril/anaconda3/lib/python3.11/site-packages/sklearn/metrics/_classification.py\", line 1721, in precision_recall_fscore_support\n",
      "    labels = _check_set_wise_labels(y_true, y_pred, average, labels, pos_label)\n",
      "             ^^^^^^^^^^^^^^^^^^^^^^^^^^^^^^^^^^^^^^^^^^^^^^^^^^^^^^^^^^^^^^^^^^\n",
      "  File \"/Users/BenAbril/anaconda3/lib/python3.11/site-packages/sklearn/metrics/_classification.py\", line 1507, in _check_set_wise_labels\n",
      "    raise ValueError(\n",
      "ValueError: pos_label=1 is not a valid label. It should be one of ['high', 'low']\n",
      "\n",
      "  warnings.warn(\n",
      "/Users/BenAbril/anaconda3/lib/python3.11/site-packages/sklearn/model_selection/_validation.py:842: UserWarning: Scoring failed. The score on this train-test partition for these parameters will be set to nan. Details: \n",
      "Traceback (most recent call last):\n",
      "  File \"/Users/BenAbril/anaconda3/lib/python3.11/site-packages/sklearn/metrics/_scorer.py\", line 136, in __call__\n",
      "    score = scorer._score(\n",
      "            ^^^^^^^^^^^^^^\n",
      "  File \"/Users/BenAbril/anaconda3/lib/python3.11/site-packages/sklearn/metrics/_scorer.py\", line 355, in _score\n",
      "    return self._sign * self._score_func(y_true, y_pred, **scoring_kwargs)\n",
      "                        ^^^^^^^^^^^^^^^^^^^^^^^^^^^^^^^^^^^^^^^^^^^^^^^^^^\n",
      "  File \"/Users/BenAbril/anaconda3/lib/python3.11/site-packages/sklearn/utils/_param_validation.py\", line 211, in wrapper\n",
      "    return func(*args, **kwargs)\n",
      "           ^^^^^^^^^^^^^^^^^^^^^\n",
      "  File \"/Users/BenAbril/anaconda3/lib/python3.11/site-packages/sklearn/metrics/_classification.py\", line 1238, in f1_score\n",
      "    return fbeta_score(\n",
      "           ^^^^^^^^^^^^\n",
      "  File \"/Users/BenAbril/anaconda3/lib/python3.11/site-packages/sklearn/utils/_param_validation.py\", line 184, in wrapper\n",
      "    return func(*args, **kwargs)\n",
      "           ^^^^^^^^^^^^^^^^^^^^^\n",
      "  File \"/Users/BenAbril/anaconda3/lib/python3.11/site-packages/sklearn/metrics/_classification.py\", line 1411, in fbeta_score\n",
      "    _, _, f, _ = precision_recall_fscore_support(\n",
      "                 ^^^^^^^^^^^^^^^^^^^^^^^^^^^^^^^^\n",
      "  File \"/Users/BenAbril/anaconda3/lib/python3.11/site-packages/sklearn/utils/_param_validation.py\", line 184, in wrapper\n",
      "    return func(*args, **kwargs)\n",
      "           ^^^^^^^^^^^^^^^^^^^^^\n",
      "  File \"/Users/BenAbril/anaconda3/lib/python3.11/site-packages/sklearn/metrics/_classification.py\", line 1721, in precision_recall_fscore_support\n",
      "    labels = _check_set_wise_labels(y_true, y_pred, average, labels, pos_label)\n",
      "             ^^^^^^^^^^^^^^^^^^^^^^^^^^^^^^^^^^^^^^^^^^^^^^^^^^^^^^^^^^^^^^^^^^\n",
      "  File \"/Users/BenAbril/anaconda3/lib/python3.11/site-packages/sklearn/metrics/_classification.py\", line 1507, in _check_set_wise_labels\n",
      "    raise ValueError(\n",
      "ValueError: pos_label=1 is not a valid label. It should be one of ['high', 'low']\n",
      "\n",
      "  warnings.warn(\n",
      "/Users/BenAbril/anaconda3/lib/python3.11/site-packages/sklearn/model_selection/_validation.py:842: UserWarning: Scoring failed. The score on this train-test partition for these parameters will be set to nan. Details: \n",
      "Traceback (most recent call last):\n",
      "  File \"/Users/BenAbril/anaconda3/lib/python3.11/site-packages/sklearn/metrics/_scorer.py\", line 136, in __call__\n",
      "    score = scorer._score(\n",
      "            ^^^^^^^^^^^^^^\n",
      "  File \"/Users/BenAbril/anaconda3/lib/python3.11/site-packages/sklearn/metrics/_scorer.py\", line 355, in _score\n",
      "    return self._sign * self._score_func(y_true, y_pred, **scoring_kwargs)\n",
      "                        ^^^^^^^^^^^^^^^^^^^^^^^^^^^^^^^^^^^^^^^^^^^^^^^^^^\n",
      "  File \"/Users/BenAbril/anaconda3/lib/python3.11/site-packages/sklearn/utils/_param_validation.py\", line 211, in wrapper\n",
      "    return func(*args, **kwargs)\n",
      "           ^^^^^^^^^^^^^^^^^^^^^\n",
      "  File \"/Users/BenAbril/anaconda3/lib/python3.11/site-packages/sklearn/metrics/_classification.py\", line 1238, in f1_score\n",
      "    return fbeta_score(\n",
      "           ^^^^^^^^^^^^\n",
      "  File \"/Users/BenAbril/anaconda3/lib/python3.11/site-packages/sklearn/utils/_param_validation.py\", line 184, in wrapper\n",
      "    return func(*args, **kwargs)\n",
      "           ^^^^^^^^^^^^^^^^^^^^^\n",
      "  File \"/Users/BenAbril/anaconda3/lib/python3.11/site-packages/sklearn/metrics/_classification.py\", line 1411, in fbeta_score\n",
      "    _, _, f, _ = precision_recall_fscore_support(\n",
      "                 ^^^^^^^^^^^^^^^^^^^^^^^^^^^^^^^^\n",
      "  File \"/Users/BenAbril/anaconda3/lib/python3.11/site-packages/sklearn/utils/_param_validation.py\", line 184, in wrapper\n",
      "    return func(*args, **kwargs)\n",
      "           ^^^^^^^^^^^^^^^^^^^^^\n",
      "  File \"/Users/BenAbril/anaconda3/lib/python3.11/site-packages/sklearn/metrics/_classification.py\", line 1721, in precision_recall_fscore_support\n",
      "    labels = _check_set_wise_labels(y_true, y_pred, average, labels, pos_label)\n",
      "             ^^^^^^^^^^^^^^^^^^^^^^^^^^^^^^^^^^^^^^^^^^^^^^^^^^^^^^^^^^^^^^^^^^\n",
      "  File \"/Users/BenAbril/anaconda3/lib/python3.11/site-packages/sklearn/metrics/_classification.py\", line 1507, in _check_set_wise_labels\n",
      "    raise ValueError(\n",
      "ValueError: pos_label=1 is not a valid label. It should be one of ['high', 'low']\n",
      "\n",
      "  warnings.warn(\n",
      "/Users/BenAbril/anaconda3/lib/python3.11/site-packages/sklearn/model_selection/_validation.py:842: UserWarning: Scoring failed. The score on this train-test partition for these parameters will be set to nan. Details: \n",
      "Traceback (most recent call last):\n",
      "  File \"/Users/BenAbril/anaconda3/lib/python3.11/site-packages/sklearn/metrics/_scorer.py\", line 136, in __call__\n",
      "    score = scorer._score(\n",
      "            ^^^^^^^^^^^^^^\n",
      "  File \"/Users/BenAbril/anaconda3/lib/python3.11/site-packages/sklearn/metrics/_scorer.py\", line 355, in _score\n",
      "    return self._sign * self._score_func(y_true, y_pred, **scoring_kwargs)\n",
      "                        ^^^^^^^^^^^^^^^^^^^^^^^^^^^^^^^^^^^^^^^^^^^^^^^^^^\n",
      "  File \"/Users/BenAbril/anaconda3/lib/python3.11/site-packages/sklearn/utils/_param_validation.py\", line 211, in wrapper\n",
      "    return func(*args, **kwargs)\n",
      "           ^^^^^^^^^^^^^^^^^^^^^\n",
      "  File \"/Users/BenAbril/anaconda3/lib/python3.11/site-packages/sklearn/metrics/_classification.py\", line 1238, in f1_score\n",
      "    return fbeta_score(\n",
      "           ^^^^^^^^^^^^\n",
      "  File \"/Users/BenAbril/anaconda3/lib/python3.11/site-packages/sklearn/utils/_param_validation.py\", line 184, in wrapper\n",
      "    return func(*args, **kwargs)\n",
      "           ^^^^^^^^^^^^^^^^^^^^^\n",
      "  File \"/Users/BenAbril/anaconda3/lib/python3.11/site-packages/sklearn/metrics/_classification.py\", line 1411, in fbeta_score\n",
      "    _, _, f, _ = precision_recall_fscore_support(\n",
      "                 ^^^^^^^^^^^^^^^^^^^^^^^^^^^^^^^^\n",
      "  File \"/Users/BenAbril/anaconda3/lib/python3.11/site-packages/sklearn/utils/_param_validation.py\", line 184, in wrapper\n",
      "    return func(*args, **kwargs)\n",
      "           ^^^^^^^^^^^^^^^^^^^^^\n",
      "  File \"/Users/BenAbril/anaconda3/lib/python3.11/site-packages/sklearn/metrics/_classification.py\", line 1721, in precision_recall_fscore_support\n",
      "    labels = _check_set_wise_labels(y_true, y_pred, average, labels, pos_label)\n",
      "             ^^^^^^^^^^^^^^^^^^^^^^^^^^^^^^^^^^^^^^^^^^^^^^^^^^^^^^^^^^^^^^^^^^\n",
      "  File \"/Users/BenAbril/anaconda3/lib/python3.11/site-packages/sklearn/metrics/_classification.py\", line 1507, in _check_set_wise_labels\n",
      "    raise ValueError(\n",
      "ValueError: pos_label=1 is not a valid label. It should be one of ['high', 'low']\n",
      "\n",
      "  warnings.warn(\n",
      "/Users/BenAbril/anaconda3/lib/python3.11/site-packages/sklearn/model_selection/_validation.py:842: UserWarning: Scoring failed. The score on this train-test partition for these parameters will be set to nan. Details: \n",
      "Traceback (most recent call last):\n",
      "  File \"/Users/BenAbril/anaconda3/lib/python3.11/site-packages/sklearn/metrics/_scorer.py\", line 136, in __call__\n",
      "    score = scorer._score(\n",
      "            ^^^^^^^^^^^^^^\n",
      "  File \"/Users/BenAbril/anaconda3/lib/python3.11/site-packages/sklearn/metrics/_scorer.py\", line 355, in _score\n",
      "    return self._sign * self._score_func(y_true, y_pred, **scoring_kwargs)\n",
      "                        ^^^^^^^^^^^^^^^^^^^^^^^^^^^^^^^^^^^^^^^^^^^^^^^^^^\n",
      "  File \"/Users/BenAbril/anaconda3/lib/python3.11/site-packages/sklearn/utils/_param_validation.py\", line 211, in wrapper\n",
      "    return func(*args, **kwargs)\n",
      "           ^^^^^^^^^^^^^^^^^^^^^\n",
      "  File \"/Users/BenAbril/anaconda3/lib/python3.11/site-packages/sklearn/metrics/_classification.py\", line 1238, in f1_score\n",
      "    return fbeta_score(\n",
      "           ^^^^^^^^^^^^\n",
      "  File \"/Users/BenAbril/anaconda3/lib/python3.11/site-packages/sklearn/utils/_param_validation.py\", line 184, in wrapper\n",
      "    return func(*args, **kwargs)\n",
      "           ^^^^^^^^^^^^^^^^^^^^^\n",
      "  File \"/Users/BenAbril/anaconda3/lib/python3.11/site-packages/sklearn/metrics/_classification.py\", line 1411, in fbeta_score\n",
      "    _, _, f, _ = precision_recall_fscore_support(\n",
      "                 ^^^^^^^^^^^^^^^^^^^^^^^^^^^^^^^^\n",
      "  File \"/Users/BenAbril/anaconda3/lib/python3.11/site-packages/sklearn/utils/_param_validation.py\", line 184, in wrapper\n",
      "    return func(*args, **kwargs)\n",
      "           ^^^^^^^^^^^^^^^^^^^^^\n",
      "  File \"/Users/BenAbril/anaconda3/lib/python3.11/site-packages/sklearn/metrics/_classification.py\", line 1721, in precision_recall_fscore_support\n",
      "    labels = _check_set_wise_labels(y_true, y_pred, average, labels, pos_label)\n",
      "             ^^^^^^^^^^^^^^^^^^^^^^^^^^^^^^^^^^^^^^^^^^^^^^^^^^^^^^^^^^^^^^^^^^\n",
      "  File \"/Users/BenAbril/anaconda3/lib/python3.11/site-packages/sklearn/metrics/_classification.py\", line 1507, in _check_set_wise_labels\n",
      "    raise ValueError(\n",
      "ValueError: pos_label=1 is not a valid label. It should be one of ['high', 'low']\n",
      "\n",
      "  warnings.warn(\n",
      "/Users/BenAbril/anaconda3/lib/python3.11/site-packages/sklearn/model_selection/_validation.py:842: UserWarning: Scoring failed. The score on this train-test partition for these parameters will be set to nan. Details: \n",
      "Traceback (most recent call last):\n",
      "  File \"/Users/BenAbril/anaconda3/lib/python3.11/site-packages/sklearn/metrics/_scorer.py\", line 136, in __call__\n",
      "    score = scorer._score(\n",
      "            ^^^^^^^^^^^^^^\n",
      "  File \"/Users/BenAbril/anaconda3/lib/python3.11/site-packages/sklearn/metrics/_scorer.py\", line 355, in _score\n",
      "    return self._sign * self._score_func(y_true, y_pred, **scoring_kwargs)\n",
      "                        ^^^^^^^^^^^^^^^^^^^^^^^^^^^^^^^^^^^^^^^^^^^^^^^^^^\n",
      "  File \"/Users/BenAbril/anaconda3/lib/python3.11/site-packages/sklearn/utils/_param_validation.py\", line 211, in wrapper\n",
      "    return func(*args, **kwargs)\n",
      "           ^^^^^^^^^^^^^^^^^^^^^\n",
      "  File \"/Users/BenAbril/anaconda3/lib/python3.11/site-packages/sklearn/metrics/_classification.py\", line 1238, in f1_score\n",
      "    return fbeta_score(\n",
      "           ^^^^^^^^^^^^\n",
      "  File \"/Users/BenAbril/anaconda3/lib/python3.11/site-packages/sklearn/utils/_param_validation.py\", line 184, in wrapper\n",
      "    return func(*args, **kwargs)\n",
      "           ^^^^^^^^^^^^^^^^^^^^^\n",
      "  File \"/Users/BenAbril/anaconda3/lib/python3.11/site-packages/sklearn/metrics/_classification.py\", line 1411, in fbeta_score\n",
      "    _, _, f, _ = precision_recall_fscore_support(\n",
      "                 ^^^^^^^^^^^^^^^^^^^^^^^^^^^^^^^^\n",
      "  File \"/Users/BenAbril/anaconda3/lib/python3.11/site-packages/sklearn/utils/_param_validation.py\", line 184, in wrapper\n",
      "    return func(*args, **kwargs)\n",
      "           ^^^^^^^^^^^^^^^^^^^^^\n",
      "  File \"/Users/BenAbril/anaconda3/lib/python3.11/site-packages/sklearn/metrics/_classification.py\", line 1721, in precision_recall_fscore_support\n",
      "    labels = _check_set_wise_labels(y_true, y_pred, average, labels, pos_label)\n",
      "             ^^^^^^^^^^^^^^^^^^^^^^^^^^^^^^^^^^^^^^^^^^^^^^^^^^^^^^^^^^^^^^^^^^\n",
      "  File \"/Users/BenAbril/anaconda3/lib/python3.11/site-packages/sklearn/metrics/_classification.py\", line 1507, in _check_set_wise_labels\n",
      "    raise ValueError(\n",
      "ValueError: pos_label=1 is not a valid label. It should be one of ['high', 'low']\n",
      "\n",
      "  warnings.warn(\n",
      "/Users/BenAbril/anaconda3/lib/python3.11/site-packages/sklearn/model_selection/_validation.py:842: UserWarning: Scoring failed. The score on this train-test partition for these parameters will be set to nan. Details: \n",
      "Traceback (most recent call last):\n",
      "  File \"/Users/BenAbril/anaconda3/lib/python3.11/site-packages/sklearn/metrics/_scorer.py\", line 136, in __call__\n",
      "    score = scorer._score(\n",
      "            ^^^^^^^^^^^^^^\n",
      "  File \"/Users/BenAbril/anaconda3/lib/python3.11/site-packages/sklearn/metrics/_scorer.py\", line 355, in _score\n",
      "    return self._sign * self._score_func(y_true, y_pred, **scoring_kwargs)\n",
      "                        ^^^^^^^^^^^^^^^^^^^^^^^^^^^^^^^^^^^^^^^^^^^^^^^^^^\n",
      "  File \"/Users/BenAbril/anaconda3/lib/python3.11/site-packages/sklearn/utils/_param_validation.py\", line 211, in wrapper\n",
      "    return func(*args, **kwargs)\n",
      "           ^^^^^^^^^^^^^^^^^^^^^\n",
      "  File \"/Users/BenAbril/anaconda3/lib/python3.11/site-packages/sklearn/metrics/_classification.py\", line 1238, in f1_score\n",
      "    return fbeta_score(\n",
      "           ^^^^^^^^^^^^\n",
      "  File \"/Users/BenAbril/anaconda3/lib/python3.11/site-packages/sklearn/utils/_param_validation.py\", line 184, in wrapper\n",
      "    return func(*args, **kwargs)\n",
      "           ^^^^^^^^^^^^^^^^^^^^^\n",
      "  File \"/Users/BenAbril/anaconda3/lib/python3.11/site-packages/sklearn/metrics/_classification.py\", line 1411, in fbeta_score\n",
      "    _, _, f, _ = precision_recall_fscore_support(\n",
      "                 ^^^^^^^^^^^^^^^^^^^^^^^^^^^^^^^^\n",
      "  File \"/Users/BenAbril/anaconda3/lib/python3.11/site-packages/sklearn/utils/_param_validation.py\", line 184, in wrapper\n",
      "    return func(*args, **kwargs)\n",
      "           ^^^^^^^^^^^^^^^^^^^^^\n",
      "  File \"/Users/BenAbril/anaconda3/lib/python3.11/site-packages/sklearn/metrics/_classification.py\", line 1721, in precision_recall_fscore_support\n",
      "    labels = _check_set_wise_labels(y_true, y_pred, average, labels, pos_label)\n",
      "             ^^^^^^^^^^^^^^^^^^^^^^^^^^^^^^^^^^^^^^^^^^^^^^^^^^^^^^^^^^^^^^^^^^\n",
      "  File \"/Users/BenAbril/anaconda3/lib/python3.11/site-packages/sklearn/metrics/_classification.py\", line 1507, in _check_set_wise_labels\n",
      "    raise ValueError(\n",
      "ValueError: pos_label=1 is not a valid label. It should be one of ['high', 'low']\n",
      "\n",
      "  warnings.warn(\n",
      "/Users/BenAbril/anaconda3/lib/python3.11/site-packages/sklearn/model_selection/_validation.py:842: UserWarning: Scoring failed. The score on this train-test partition for these parameters will be set to nan. Details: \n",
      "Traceback (most recent call last):\n",
      "  File \"/Users/BenAbril/anaconda3/lib/python3.11/site-packages/sklearn/metrics/_scorer.py\", line 136, in __call__\n",
      "    score = scorer._score(\n",
      "            ^^^^^^^^^^^^^^\n",
      "  File \"/Users/BenAbril/anaconda3/lib/python3.11/site-packages/sklearn/metrics/_scorer.py\", line 355, in _score\n",
      "    return self._sign * self._score_func(y_true, y_pred, **scoring_kwargs)\n",
      "                        ^^^^^^^^^^^^^^^^^^^^^^^^^^^^^^^^^^^^^^^^^^^^^^^^^^\n",
      "  File \"/Users/BenAbril/anaconda3/lib/python3.11/site-packages/sklearn/utils/_param_validation.py\", line 211, in wrapper\n",
      "    return func(*args, **kwargs)\n",
      "           ^^^^^^^^^^^^^^^^^^^^^\n",
      "  File \"/Users/BenAbril/anaconda3/lib/python3.11/site-packages/sklearn/metrics/_classification.py\", line 1238, in f1_score\n",
      "    return fbeta_score(\n",
      "           ^^^^^^^^^^^^\n",
      "  File \"/Users/BenAbril/anaconda3/lib/python3.11/site-packages/sklearn/utils/_param_validation.py\", line 184, in wrapper\n",
      "    return func(*args, **kwargs)\n",
      "           ^^^^^^^^^^^^^^^^^^^^^\n",
      "  File \"/Users/BenAbril/anaconda3/lib/python3.11/site-packages/sklearn/metrics/_classification.py\", line 1411, in fbeta_score\n",
      "    _, _, f, _ = precision_recall_fscore_support(\n",
      "                 ^^^^^^^^^^^^^^^^^^^^^^^^^^^^^^^^\n",
      "  File \"/Users/BenAbril/anaconda3/lib/python3.11/site-packages/sklearn/utils/_param_validation.py\", line 184, in wrapper\n",
      "    return func(*args, **kwargs)\n",
      "           ^^^^^^^^^^^^^^^^^^^^^\n",
      "  File \"/Users/BenAbril/anaconda3/lib/python3.11/site-packages/sklearn/metrics/_classification.py\", line 1721, in precision_recall_fscore_support\n",
      "    labels = _check_set_wise_labels(y_true, y_pred, average, labels, pos_label)\n",
      "             ^^^^^^^^^^^^^^^^^^^^^^^^^^^^^^^^^^^^^^^^^^^^^^^^^^^^^^^^^^^^^^^^^^\n",
      "  File \"/Users/BenAbril/anaconda3/lib/python3.11/site-packages/sklearn/metrics/_classification.py\", line 1507, in _check_set_wise_labels\n",
      "    raise ValueError(\n",
      "ValueError: pos_label=1 is not a valid label. It should be one of ['high', 'low']\n",
      "\n",
      "  warnings.warn(\n",
      "/Users/BenAbril/anaconda3/lib/python3.11/site-packages/sklearn/model_selection/_validation.py:842: UserWarning: Scoring failed. The score on this train-test partition for these parameters will be set to nan. Details: \n",
      "Traceback (most recent call last):\n",
      "  File \"/Users/BenAbril/anaconda3/lib/python3.11/site-packages/sklearn/metrics/_scorer.py\", line 136, in __call__\n",
      "    score = scorer._score(\n",
      "            ^^^^^^^^^^^^^^\n",
      "  File \"/Users/BenAbril/anaconda3/lib/python3.11/site-packages/sklearn/metrics/_scorer.py\", line 355, in _score\n",
      "    return self._sign * self._score_func(y_true, y_pred, **scoring_kwargs)\n",
      "                        ^^^^^^^^^^^^^^^^^^^^^^^^^^^^^^^^^^^^^^^^^^^^^^^^^^\n",
      "  File \"/Users/BenAbril/anaconda3/lib/python3.11/site-packages/sklearn/utils/_param_validation.py\", line 211, in wrapper\n",
      "    return func(*args, **kwargs)\n",
      "           ^^^^^^^^^^^^^^^^^^^^^\n",
      "  File \"/Users/BenAbril/anaconda3/lib/python3.11/site-packages/sklearn/metrics/_classification.py\", line 1238, in f1_score\n",
      "    return fbeta_score(\n",
      "           ^^^^^^^^^^^^\n",
      "  File \"/Users/BenAbril/anaconda3/lib/python3.11/site-packages/sklearn/utils/_param_validation.py\", line 184, in wrapper\n",
      "    return func(*args, **kwargs)\n",
      "           ^^^^^^^^^^^^^^^^^^^^^\n",
      "  File \"/Users/BenAbril/anaconda3/lib/python3.11/site-packages/sklearn/metrics/_classification.py\", line 1411, in fbeta_score\n",
      "    _, _, f, _ = precision_recall_fscore_support(\n",
      "                 ^^^^^^^^^^^^^^^^^^^^^^^^^^^^^^^^\n",
      "  File \"/Users/BenAbril/anaconda3/lib/python3.11/site-packages/sklearn/utils/_param_validation.py\", line 184, in wrapper\n",
      "    return func(*args, **kwargs)\n",
      "           ^^^^^^^^^^^^^^^^^^^^^\n",
      "  File \"/Users/BenAbril/anaconda3/lib/python3.11/site-packages/sklearn/metrics/_classification.py\", line 1721, in precision_recall_fscore_support\n",
      "    labels = _check_set_wise_labels(y_true, y_pred, average, labels, pos_label)\n",
      "             ^^^^^^^^^^^^^^^^^^^^^^^^^^^^^^^^^^^^^^^^^^^^^^^^^^^^^^^^^^^^^^^^^^\n",
      "  File \"/Users/BenAbril/anaconda3/lib/python3.11/site-packages/sklearn/metrics/_classification.py\", line 1507, in _check_set_wise_labels\n",
      "    raise ValueError(\n",
      "ValueError: pos_label=1 is not a valid label. It should be one of ['high', 'low']\n",
      "\n",
      "  warnings.warn(\n",
      "/Users/BenAbril/anaconda3/lib/python3.11/site-packages/sklearn/model_selection/_validation.py:842: UserWarning: Scoring failed. The score on this train-test partition for these parameters will be set to nan. Details: \n",
      "Traceback (most recent call last):\n",
      "  File \"/Users/BenAbril/anaconda3/lib/python3.11/site-packages/sklearn/metrics/_scorer.py\", line 136, in __call__\n",
      "    score = scorer._score(\n",
      "            ^^^^^^^^^^^^^^\n",
      "  File \"/Users/BenAbril/anaconda3/lib/python3.11/site-packages/sklearn/metrics/_scorer.py\", line 355, in _score\n",
      "    return self._sign * self._score_func(y_true, y_pred, **scoring_kwargs)\n",
      "                        ^^^^^^^^^^^^^^^^^^^^^^^^^^^^^^^^^^^^^^^^^^^^^^^^^^\n",
      "  File \"/Users/BenAbril/anaconda3/lib/python3.11/site-packages/sklearn/utils/_param_validation.py\", line 211, in wrapper\n",
      "    return func(*args, **kwargs)\n",
      "           ^^^^^^^^^^^^^^^^^^^^^\n",
      "  File \"/Users/BenAbril/anaconda3/lib/python3.11/site-packages/sklearn/metrics/_classification.py\", line 1238, in f1_score\n",
      "    return fbeta_score(\n",
      "           ^^^^^^^^^^^^\n",
      "  File \"/Users/BenAbril/anaconda3/lib/python3.11/site-packages/sklearn/utils/_param_validation.py\", line 184, in wrapper\n",
      "    return func(*args, **kwargs)\n",
      "           ^^^^^^^^^^^^^^^^^^^^^\n",
      "  File \"/Users/BenAbril/anaconda3/lib/python3.11/site-packages/sklearn/metrics/_classification.py\", line 1411, in fbeta_score\n",
      "    _, _, f, _ = precision_recall_fscore_support(\n",
      "                 ^^^^^^^^^^^^^^^^^^^^^^^^^^^^^^^^\n",
      "  File \"/Users/BenAbril/anaconda3/lib/python3.11/site-packages/sklearn/utils/_param_validation.py\", line 184, in wrapper\n",
      "    return func(*args, **kwargs)\n",
      "           ^^^^^^^^^^^^^^^^^^^^^\n",
      "  File \"/Users/BenAbril/anaconda3/lib/python3.11/site-packages/sklearn/metrics/_classification.py\", line 1721, in precision_recall_fscore_support\n",
      "    labels = _check_set_wise_labels(y_true, y_pred, average, labels, pos_label)\n",
      "             ^^^^^^^^^^^^^^^^^^^^^^^^^^^^^^^^^^^^^^^^^^^^^^^^^^^^^^^^^^^^^^^^^^\n",
      "  File \"/Users/BenAbril/anaconda3/lib/python3.11/site-packages/sklearn/metrics/_classification.py\", line 1507, in _check_set_wise_labels\n",
      "    raise ValueError(\n",
      "ValueError: pos_label=1 is not a valid label. It should be one of ['high', 'low']\n",
      "\n",
      "  warnings.warn(\n"
     ]
    }
   ],
   "source": [
    "import pandas as pd\n",
    "from sklearn.model_selection import cross_val_score, StratifiedKFold\n",
    "from sklearn.linear_model import LogisticRegression\n",
    "from sklearn.metrics import accuracy_score, precision_score, recall_score, f1_score\n",
    "\n",
    "# Step 1: Load the dataset\n",
    "data = pd.read_csv(file_path)\n",
    "\n",
    "# Assuming you have a binary target column named 'target_column_name', replace it with the actual column name.\n",
    "target_column_name = 'type'\n",
    "\n",
    "# Extract features and target\n",
    "X = data.drop(columns=[target_column_name])\n",
    "y = data[target_column_name]\n",
    "\n",
    "# Step 2: Initialize the logistic regression model\n",
    "logistic_regression_model = LogisticRegression()\n",
    "\n",
    "# Step 3: Perform 10-fold cross-validation\n",
    "cv = StratifiedKFold(n_splits=10, shuffle=True, random_state=42)\n",
    "\n",
    "# Define a function to calculate metrics and print the results\n",
    "def calculate_metrics(model, X, y, cv):\n",
    "    accuracy = cross_val_score(model, X, y, cv=cv, scoring='accuracy')\n",
    "    precision_scorer = make_scorer(precision_score, pos_label='high')\n",
    "    precision = cross_val_score(model, X, y, cv=cv, scoring=precision_scorer)\n",
    "    recall_scorer = make_scorer(recall_score, pos_label='high')\n",
    "    recall = cross_val_score(model, X, y, cv=cv, scoring=recall_scorer)\n",
    "    f1 = cross_val_score(model, X, y, cv=cv, scoring='f1')\n",
    "    \n",
    "    print(f'Accuracy: {accuracy.mean():.2f}')\n",
    "    print(f'Precision: {precision.mean():.2f}')\n",
    "    print(f'Recall: {recall.mean():.2f}')\n",
    "    print(f'F1-score: {f1.mean():.2f}')\n",
    "    \n",
    "# Calculate and print the performance metrics\n",
    "calculate_metrics(logistic_regression_model, X, y, cv)\n"
   ]
  },
  {
   "cell_type": "markdown",
   "id": "1d44d219",
   "metadata": {},
   "source": [
    "## AUC of Logistic Regression Model Using 10-Fold Cross-Validation Model"
   ]
  },
  {
   "cell_type": "code",
   "execution_count": 22,
   "id": "3f9f30c9",
   "metadata": {},
   "outputs": [
    {
     "name": "stdout",
     "output_type": "stream",
     "text": [
      "AUC scores for each fold: [0.97729988 0.84197531 0.90493827 0.8037037  0.90493827 0.86049383\n",
      " 0.90617284 0.83580247 0.84320988 0.87965261]\n",
      "Mean AUC: 0.88\n"
     ]
    }
   ],
   "source": [
    "import pandas as pd\n",
    "from sklearn.model_selection import cross_val_score, StratifiedKFold\n",
    "from sklearn.linear_model import LogisticRegression\n",
    "from sklearn.metrics import roc_auc_score\n",
    "\n",
    "# Step 1: Load the dataset\n",
    "data = pd.read_csv(file_path)\n",
    "\n",
    "# Assuming you have a binary target column named 'target_column_name', replace it with the actual column name.\n",
    "target_column_name = 'type'\n",
    "\n",
    "# Extract features and target\n",
    "X = data.drop(columns=[target_column_name])\n",
    "y = data[target_column_name]\n",
    "\n",
    "# Step 2: Initialize the logistic regression model\n",
    "logistic_regression_model = LogisticRegression()\n",
    "\n",
    "# Step 3: Perform 10-fold cross-validation\n",
    "cv = StratifiedKFold(n_splits=10, shuffle=True, random_state=42)\n",
    "\n",
    "# Define a function to calculate AUC and print the results\n",
    "def calculate_auc(model, X, y, cv):\n",
    "    auc_scores = cross_val_score(model, X, y, cv=cv, scoring='roc_auc')\n",
    "    \n",
    "    print(f'AUC scores for each fold: {auc_scores}')\n",
    "    print(f'Mean AUC: {auc_scores.mean():.2f}')\n",
    "\n",
    "# Calculate and print the AUC scores\n",
    "calculate_auc(logistic_regression_model, X, y, cv)\n"
   ]
  },
  {
   "cell_type": "markdown",
   "id": "1715e0b2",
   "metadata": {},
   "source": [
    "## Accuracy of Naive Bayes Model using 10-Fold Cross-Validation"
   ]
  },
  {
   "cell_type": "code",
   "execution_count": 28,
   "id": "16fa6a2a",
   "metadata": {},
   "outputs": [
    {
     "name": "stdout",
     "output_type": "stream",
     "text": [
      "Accuracy scores for each fold: [0.87931034 0.80701754 0.87719298 0.85964912 0.8245614  0.80701754\n",
      " 0.8245614  0.77192982 0.71929825 0.87719298]\n",
      "Mean Accuracy: 0.82\n"
     ]
    }
   ],
   "source": [
    "import pandas as pd\n",
    "from sklearn.model_selection import cross_val_score, StratifiedKFold\n",
    "from sklearn.naive_bayes import GaussianNB\n",
    "from sklearn.metrics import accuracy_score\n",
    "\n",
    "# Step 1: Load the dataset\n",
    "data = pd.read_csv(file_path)\n",
    "\n",
    "# Assuming you have a binary target column named 'target_column_name', replace it with the actual column name.\n",
    "target_column_name = 'type'\n",
    "\n",
    "# Extract features and target\n",
    "X = data.drop(columns=[target_column_name])\n",
    "y = data[target_column_name]\n",
    "\n",
    "# Step 2: Initialize the Naive Bayes model (Gaussian Naive Bayes)\n",
    "naive_bayes_model = GaussianNB()\n",
    "\n",
    "# Step 3: Perform 10-fold cross-validation\n",
    "cv = StratifiedKFold(n_splits=10, shuffle=True, random_state=42)\n",
    "\n",
    "# Define a function to calculate accuracy and print the results\n",
    "def calculate_accuracy(model, X, y, cv):\n",
    "    accuracy_scores = cross_val_score(model, X, y, cv=cv, scoring='accuracy')\n",
    "    \n",
    "    print(f'Accuracy scores for each fold: {accuracy_scores}')\n",
    "    print(f'Mean Accuracy: {accuracy_scores.mean():.2f}')\n",
    "\n",
    "# Calculate and print the accuracy scores\n",
    "calculate_accuracy(naive_bayes_model, X, y, cv)\n"
   ]
  },
  {
   "cell_type": "markdown",
   "id": "e2b8f42d",
   "metadata": {},
   "source": [
    "## AUC of Naive Bayes Model Using 10-Fold Cross Validation"
   ]
  },
  {
   "cell_type": "code",
   "execution_count": 29,
   "id": "1d6d65b6",
   "metadata": {},
   "outputs": [
    {
     "name": "stdout",
     "output_type": "stream",
     "text": [
      "AUC scores for each fold: [0.96057348 0.84691358 0.94197531 0.88024691 0.92962963 0.86049383\n",
      " 0.89753086 0.86049383 0.85679012 0.89826303]\n",
      "Mean AUC: 0.89\n"
     ]
    }
   ],
   "source": [
    "import pandas as pd\n",
    "from sklearn.model_selection import cross_val_score, StratifiedKFold\n",
    "from sklearn.naive_bayes import GaussianNB\n",
    "from sklearn.metrics import roc_auc_score\n",
    "\n",
    "# Step 1: Load the dataset\n",
    "data = pd.read_csv(file_path)\n",
    "\n",
    "# Assuming you have a binary target column named 'target_column_name', replace it with the actual column name.\n",
    "target_column_name = 'type'\n",
    "\n",
    "# Extract features and target\n",
    "X = data.drop(columns=[target_column_name])\n",
    "y = data[target_column_name]\n",
    "\n",
    "# Step 2: Initialize the Naive Bayes model (Gaussian Naive Bayes)\n",
    "naive_bayes_model = GaussianNB()\n",
    "\n",
    "# Step 3: Perform 10-fold cross-validation\n",
    "cv = StratifiedKFold(n_splits=10, shuffle=True, random_state=42)\n",
    "\n",
    "# Define a function to calculate AUC and print the results\n",
    "def calculate_auc(model, X, y, cv):\n",
    "    auc_scores = cross_val_score(model, X, y, cv=cv, scoring='roc_auc')\n",
    "    \n",
    "    print(f'AUC scores for each fold: {auc_scores}')\n",
    "    print(f'Mean AUC: {auc_scores.mean():.2f}')\n",
    "\n",
    "# Calculate and print the AUC scores\n",
    "calculate_auc(naive_bayes_model, X, y, cv)\n"
   ]
  },
  {
   "cell_type": "markdown",
   "id": "eddb2860",
   "metadata": {},
   "source": [
    "## Accuracy of Decision Tree Model Using 10-Fold Cross-Validation"
   ]
  },
  {
   "cell_type": "code",
   "execution_count": 30,
   "id": "2f34d89e",
   "metadata": {},
   "outputs": [
    {
     "name": "stdout",
     "output_type": "stream",
     "text": [
      "Accuracy scores for each fold: [0.9137931  0.87719298 0.80701754 0.78947368 0.77192982 0.8245614\n",
      " 0.75438596 0.78947368 0.73684211 0.85964912]\n",
      "Mean Accuracy: 0.81\n"
     ]
    }
   ],
   "source": [
    "import pandas as pd\n",
    "from sklearn.model_selection import cross_val_score, StratifiedKFold\n",
    "from sklearn.tree import DecisionTreeClassifier\n",
    "from sklearn.metrics import accuracy_score\n",
    "\n",
    "# Step 1: Load the dataset\n",
    "data = pd.read_csv(file_path)\n",
    "\n",
    "# Assuming you have a binary target column named 'target_column_name', replace it with the actual column name.\n",
    "target_column_name = 'type'\n",
    "\n",
    "# Extract features and target\n",
    "X = data.drop(columns=[target_column_name])\n",
    "y = data[target_column_name]\n",
    "\n",
    "# Step 2: Initialize the Decision Tree model\n",
    "decision_tree_model = DecisionTreeClassifier()\n",
    "\n",
    "# Step 3: Perform 10-fold cross-validation\n",
    "cv = StratifiedKFold(n_splits=10, shuffle=True, random_state=42)\n",
    "\n",
    "# Define a function to calculate accuracy and print the results\n",
    "def calculate_accuracy(model, X, y, cv):\n",
    "    accuracy_scores = cross_val_score(model, X, y, cv=cv, scoring='accuracy')\n",
    "    \n",
    "    print(f'Accuracy scores for each fold: {accuracy_scores}')\n",
    "    print(f'Mean Accuracy: {accuracy_scores.mean():.2f}')\n",
    "\n",
    "# Calculate and print the accuracy scores\n",
    "calculate_accuracy(decision_tree_model, X, y, cv)\n"
   ]
  },
  {
   "cell_type": "markdown",
   "id": "0a0f7ac2",
   "metadata": {},
   "source": [
    "## AUC of Decision Tree Model Using 10-Fold Cross-Vaildation"
   ]
  },
  {
   "cell_type": "code",
   "execution_count": 31,
   "id": "c7f53492",
   "metadata": {},
   "outputs": [
    {
     "name": "stdout",
     "output_type": "stream",
     "text": [
      "AUC scores for each fold: [0.91218638 0.87777778 0.79074074 0.7537037  0.79259259 0.78703704\n",
      " 0.76666667 0.78888889 0.73333333 0.87158809]\n",
      "Mean AUC: 0.81\n"
     ]
    }
   ],
   "source": [
    "import pandas as pd\n",
    "from sklearn.model_selection import cross_val_score, StratifiedKFold\n",
    "from sklearn.tree import DecisionTreeClassifier\n",
    "from sklearn.metrics import roc_auc_score\n",
    "\n",
    "# Step 1: Load the dataset\n",
    "data = pd.read_csv(file_path)\n",
    "\n",
    "# Assuming you have a binary target column named 'target_column_name', replace it with the actual column name.\n",
    "target_column_name = 'type'\n",
    "\n",
    "# Extract features and target\n",
    "X = data.drop(columns=[target_column_name])\n",
    "y = data[target_column_name]\n",
    "\n",
    "# Step 2: Initialize the Decision Tree model\n",
    "decision_tree_model = DecisionTreeClassifier()\n",
    "\n",
    "# Step 3: Perform 10-fold cross-validation\n",
    "cv = StratifiedKFold(n_splits=10, shuffle=True, random_state=42)\n",
    "\n",
    "# Define a function to calculate AUC and print the results\n",
    "def calculate_auc(model, X, y, cv):\n",
    "    auc_scores = cross_val_score(model, X, y, cv=cv, scoring='roc_auc')\n",
    "    \n",
    "    print(f'AUC scores for each fold: {auc_scores}')\n",
    "    print(f'Mean AUC: {auc_scores.mean():.2f}')\n",
    "\n",
    "# Calculate and print the AUC scores\n",
    "calculate_auc(decision_tree_model, X, y, cv)\n"
   ]
  },
  {
   "cell_type": "markdown",
   "id": "6cc3ba81",
   "metadata": {},
   "source": [
    "## Accuracy of SVM-Linear Model Using 10-Fold Cross-Validation"
   ]
  },
  {
   "cell_type": "code",
   "execution_count": 33,
   "id": "b57ccb03",
   "metadata": {},
   "outputs": [
    {
     "name": "stdout",
     "output_type": "stream",
     "text": [
      "Accuracy scores for each fold: [0.9137931  0.75438596 0.80701754 0.71929825 0.78947368 0.78947368\n",
      " 0.78947368 0.80701754 0.73684211 0.8245614 ]\n",
      "Mean Accuracy: 0.79\n"
     ]
    }
   ],
   "source": [
    "import pandas as pd\n",
    "from sklearn.model_selection import cross_val_score, StratifiedKFold\n",
    "from sklearn.svm import SVC\n",
    "from sklearn.metrics import accuracy_score\n",
    "\n",
    "# Step 1: Load the dataset\n",
    "data = pd.read_csv(file_path)\n",
    "\n",
    "# Assuming you have a binary target column named 'target_column_name', replace it with the actual column name.\n",
    "target_column_name = 'type'\n",
    "\n",
    "# Extract features and target\n",
    "X = data.drop(columns=[target_column_name])\n",
    "y = data[target_column_name]\n",
    "\n",
    "# Step 2: Initialize the Support Vector Machine (SVM) linear model\n",
    "svm_model = SVC(kernel='linear')\n",
    "\n",
    "# Step 3: Perform 10-fold cross-validation\n",
    "cv = StratifiedKFold(n_splits=10, shuffle=True, random_state=42)\n",
    "\n",
    "# Define a function to calculate accuracy and print the results\n",
    "def calculate_accuracy(model, X, y, cv):\n",
    "    accuracy_scores = cross_val_score(model, X, y, cv=cv, scoring='accuracy')\n",
    "    \n",
    "    print(f'Accuracy scores for each fold: {accuracy_scores}')\n",
    "    print(f'Mean Accuracy: {accuracy_scores.mean():.2f}')\n",
    "\n",
    "# Calculate and print the accuracy scores\n",
    "calculate_accuracy(svm_model, X, y, cv)\n"
   ]
  },
  {
   "cell_type": "markdown",
   "id": "4c1b52f0",
   "metadata": {},
   "source": [
    "## AUC of SVM-Linear Model Using 10-Fold Cross-Validation"
   ]
  },
  {
   "cell_type": "code",
   "execution_count": 35,
   "id": "31a05c22",
   "metadata": {},
   "outputs": [
    {
     "name": "stdout",
     "output_type": "stream",
     "text": [
      "AUC scores for each fold: [0.97849462 0.84074074 0.90864198 0.80123457 0.89012346 0.86296296\n",
      " 0.90493827 0.83209877 0.85308642 0.882134  ]\n",
      "Mean AUC: 0.88\n"
     ]
    }
   ],
   "source": [
    "import pandas as pd\n",
    "from sklearn.model_selection import cross_val_score, StratifiedKFold\n",
    "from sklearn.svm import SVC\n",
    "from sklearn.metrics import roc_auc_score\n",
    "\n",
    "# Step 1: Load the dataset\n",
    "data = pd.read_csv(file_path)\n",
    "\n",
    "# Assuming you have a binary target column named 'target_column_name', replace it with the actual column name.\n",
    "target_column_name = 'type'\n",
    "\n",
    "# Extract features and target\n",
    "X = data.drop(columns=[target_column_name])\n",
    "y = data[target_column_name]\n",
    "\n",
    "# Step 2: Initialize the Support Vector Machine (SVM) linear model\n",
    "svm_model = SVC(kernel='linear', probability=True)\n",
    "\n",
    "# Step 3: Perform 10-fold cross-validation\n",
    "cv = StratifiedKFold(n_splits=10, shuffle=True, random_state=42)\n",
    "\n",
    "# Define a function to calculate AUC and print the results\n",
    "def calculate_auc(model, X, y, cv):\n",
    "    auc_scores = cross_val_score(model, X, y, cv=cv, scoring='roc_auc')\n",
    "    \n",
    "    print(f'AUC scores for each fold: {auc_scores}')\n",
    "    print(f'Mean AUC: {auc_scores.mean():.2f}')\n",
    "\n",
    "# Calculate and print the AUC scores\n",
    "calculate_auc(svm_model, X, y, cv)\n"
   ]
  },
  {
   "cell_type": "markdown",
   "id": "319582d6",
   "metadata": {},
   "source": [
    "## Accuracy of SVM-RBF Model Using 10-Fold Cross-Validation"
   ]
  },
  {
   "cell_type": "code",
   "execution_count": 36,
   "id": "856f9d5f",
   "metadata": {},
   "outputs": [
    {
     "name": "stdout",
     "output_type": "stream",
     "text": [
      "Accuracy scores for each fold: [0.56896552 0.52631579 0.54385965 0.52631579 0.52631579 0.52631579\n",
      " 0.54385965 0.52631579 0.52631579 0.54385965]\n",
      "Mean Accuracy: 0.54\n"
     ]
    }
   ],
   "source": [
    "import pandas as pd\n",
    "from sklearn.model_selection import cross_val_score, StratifiedKFold\n",
    "from sklearn.svm import SVC\n",
    "from sklearn.metrics import accuracy_score\n",
    "\n",
    "# Step 1: Load the dataset\n",
    "data = pd.read_csv(file_path)\n",
    "\n",
    "# Assuming you have a binary target column named 'target_column_name', replace it with the actual column name.\n",
    "target_column_name = 'type'\n",
    "\n",
    "# Extract features and target\n",
    "X = data.drop(columns=[target_column_name])\n",
    "y = data[target_column_name]\n",
    "\n",
    "# Step 2: Initialize the Support Vector Machine (SVM) with RBF kernel model\n",
    "svm_model = SVC(kernel='rbf')\n",
    "\n",
    "# Step 3: Perform 10-fold cross-validation\n",
    "cv = StratifiedKFold(n_splits=10, shuffle=True, random_state=42)\n",
    "\n",
    "# Define a function to calculate accuracy and print the results\n",
    "def calculate_accuracy(model, X, y, cv):\n",
    "    accuracy_scores = cross_val_score(model, X, y, cv=cv, scoring='accuracy')\n",
    "    \n",
    "    print(f'Accuracy scores for each fold: {accuracy_scores}')\n",
    "    print(f'Mean Accuracy: {accuracy_scores.mean():.2f}')\n",
    "\n",
    "# Calculate and print the accuracy scores\n",
    "calculate_accuracy(svm_model, X, y, cv)\n"
   ]
  },
  {
   "cell_type": "markdown",
   "id": "e189f8dd",
   "metadata": {},
   "source": [
    "## AUC of SVM-RBF Model Using 10-Fold Cross-Validation"
   ]
  },
  {
   "cell_type": "code",
   "execution_count": 37,
   "id": "f6d37efb",
   "metadata": {},
   "outputs": [
    {
     "name": "stdout",
     "output_type": "stream",
     "text": [
      "AUC scores for each fold: [0.9557945  0.83950617 0.91604938 0.80864198 0.81975309 0.83209877\n",
      " 0.86049383 0.81358025 0.82962963 0.87468983]\n",
      "Mean AUC: 0.86\n"
     ]
    }
   ],
   "source": [
    "import pandas as pd\n",
    "from sklearn.model_selection import cross_val_score, StratifiedKFold\n",
    "from sklearn.svm import SVC\n",
    "from sklearn.metrics import roc_auc_score\n",
    "\n",
    "# Step 1: Load the dataset\n",
    "data = pd.read_csv(file_path)\n",
    "\n",
    "# Assuming you have a binary target column named 'target_column_name', replace it with the actual column name.\n",
    "target_column_name = 'type'\n",
    "\n",
    "# Extract features and target\n",
    "X = data.drop(columns=[target_column_name])\n",
    "y = data[target_column_name]\n",
    "\n",
    "# Step 2: Initialize the Support Vector Machine (SVM) with RBF kernel model\n",
    "svm_model = SVC(kernel='rbf', probability=True)\n",
    "\n",
    "# Step 3: Perform 10-fold cross-validation\n",
    "cv = StratifiedKFold(n_splits=10, shuffle=True, random_state=42)\n",
    "\n",
    "# Define a function to calculate AUC and print the results\n",
    "def calculate_auc(model, X, y, cv):\n",
    "    auc_scores = cross_val_score(model, X, y, cv=cv, scoring='roc_auc')\n",
    "    \n",
    "    print(f'AUC scores for each fold: {auc_scores}')\n",
    "    print(f'Mean AUC: {auc_scores.mean():.2f}')\n",
    "\n",
    "# Calculate and print the AUC scores\n",
    "calculate_auc(svm_model, X, y, cv)\n"
   ]
  },
  {
   "cell_type": "markdown",
   "id": "6afaf0da",
   "metadata": {},
   "source": [
    "## Accuracy of Random Forest Model Using 10-Fold Cross Validation"
   ]
  },
  {
   "cell_type": "code",
   "execution_count": 38,
   "id": "05f6225c",
   "metadata": {},
   "outputs": [
    {
     "name": "stdout",
     "output_type": "stream",
     "text": [
      "Accuracy scores for each fold: [0.98275862 0.9122807  0.8245614  0.80701754 0.8245614  0.87719298\n",
      " 0.77192982 0.8245614  0.73684211 0.84210526]\n",
      "Mean Accuracy: 0.84\n"
     ]
    }
   ],
   "source": [
    "import pandas as pd\n",
    "from sklearn.model_selection import cross_val_score, StratifiedKFold\n",
    "from sklearn.ensemble import RandomForestClassifier\n",
    "from sklearn.metrics import accuracy_score\n",
    "\n",
    "# Step 1: Load the dataset\n",
    "data = pd.read_csv(file_path)\n",
    "\n",
    "# Assuming you have a binary target column named 'target_column_name', replace it with the actual column name.\n",
    "target_column_name = 'type'\n",
    "\n",
    "# Extract features and target\n",
    "X = data.drop(columns=[target_column_name])\n",
    "y = data[target_column_name]\n",
    "\n",
    "# Step 2: Initialize the Random Forest model\n",
    "random_forest_model = RandomForestClassifier(n_estimators=100, random_state=42)\n",
    "\n",
    "# Step 3: Perform 10-fold cross-validation\n",
    "cv = StratifiedKFold(n_splits=10, shuffle=True, random_state=42)\n",
    "\n",
    "# Define a function to calculate accuracy and print the results\n",
    "def calculate_accuracy(model, X, y, cv):\n",
    "    accuracy_scores = cross_val_score(model, X, y, cv=cv, scoring='accuracy')\n",
    "    \n",
    "    print(f'Accuracy scores for each fold: {accuracy_scores}')\n",
    "    print(f'Mean Accuracy: {accuracy_scores.mean():.2f}')\n",
    "\n",
    "# Calculate and print the accuracy scores\n",
    "calculate_accuracy(random_forest_model, X, y, cv)\n"
   ]
  },
  {
   "cell_type": "markdown",
   "id": "ba535ca2",
   "metadata": {},
   "source": [
    "## AUC of Random Forest Model Using 10-Fold Cross Validation"
   ]
  },
  {
   "cell_type": "code",
   "execution_count": 39,
   "id": "37c71145",
   "metadata": {},
   "outputs": [
    {
     "name": "stdout",
     "output_type": "stream",
     "text": [
      "AUC scores for each fold: [0.98267622 0.94197531 0.92716049 0.90617284 0.90864198 0.93703704\n",
      " 0.90246914 0.90679012 0.87160494 0.89578164]\n",
      "Mean AUC: 0.92\n"
     ]
    }
   ],
   "source": [
    "c\n",
    "\n",
    "# Define a function to calculate AUC and print the results\n",
    "def calculate_auc(model, X, y, cv):\n",
    "    auc_scores = cross_val_score(model, X, y, cv=cv, scoring='roc_auc')\n",
    "    \n",
    "    print(f'AUC scores for each fold: {auc_scores}')\n",
    "    print(f'Mean AUC: {auc_scores.mean():.2f}')\n",
    "\n",
    "# Calculate and print the AUC scores\n",
    "calculate_auc(random_forest_model, X, y, cv)\n"
   ]
  },
  {
   "cell_type": "markdown",
   "id": "a90f3360",
   "metadata": {},
   "source": [
    "## ROC Curve of Random Forest Classifier"
   ]
  },
  {
   "cell_type": "code",
   "execution_count": 42,
   "id": "65f3d4b4",
   "metadata": {},
   "outputs": [
    {
     "data": {
      "image/png": "[encoded data removed]",
      "text/plain": [
       "<Figure size 800x600 with 1 Axes>"
      ]
     },
     "metadata": {},
     "output_type": "display_data"
    }
   ],
   "source": [
    "import pandas as pd\n",
    "import matplotlib.pyplot as plt\n",
    "from sklearn.ensemble import RandomForestClassifier\n",
    "from sklearn.model_selection import train_test_split\n",
    "from sklearn.metrics import roc_curve, roc_auc_score\n",
    "\n",
    "# Load your dataset (replace this with your actual dataset)\n",
    "data = pd.read_csv(file_path)\n",
    "\n",
    "# Assuming you have a binary target column named 'target_column_name', replace it with the actual column name.\n",
    "target_column_name = 'type'\n",
    "# Convert categorical labels to binary (e.g., 'high' to 1, 'low' to 0)\n",
    "data[target_column_name] = (data[target_column_name] == 'high').astype(int)\n",
    "\n",
    "# Extract features and target\n",
    "X = data.drop(columns=[target_column_name])\n",
    "y = data[target_column_name]\n",
    "\n",
    "# Split the data into a training and testing set\n",
    "X_train, X_test, y_train, y_test = train_test_split(X, y, test_size=0.2, random_state=42)\n",
    "\n",
    "# Initialize the Random Forest classifier\n",
    "random_forest_model = RandomForestClassifier(n_estimators=100, random_state=42)\n",
    "random_forest_model.fit(X_train, y_train)\n",
    "\n",
    "# Make predictions on the test set\n",
    "y_pred_proba = random_forest_model.predict_proba(X_test)[:, 1]\n",
    "\n",
    "# Calculate the ROC curve\n",
    "fpr, tpr, thresholds = roc_curve(y_test, y_pred_proba)\n",
    "\n",
    "# Calculate the AUC (Area Under the ROC Curve)\n",
    "roc_auc = roc_auc_score(y_test, y_pred_proba)\n",
    "\n",
    "# Plot the ROC curve\n",
    "plt.figure(figsize=(8, 6))\n",
    "plt.plot(fpr, tpr, color='darkorange', lw=2, label=f'ROC curve (AUC = {roc_auc:.2f})')\n",
    "plt.plot([0, 1], [0, 1], color='navy', lw=2, linestyle='--')\n",
    "plt.xlim([0.0, 1.0])\n",
    "plt.ylim([0.0, 1.05])\n",
    "plt.xlabel('False Positive Rate')\n",
    "plt.ylabel('True Positive Rate')\n",
    "plt.title('Receiver Operating Characteristic (ROC) Curve')\n",
    "plt.legend(loc='lower right')\n",
    "plt.show()\n"
   ]
  },
  {
   "cell_type": "markdown",
   "id": "1fbf8264",
   "metadata": {},
   "source": [
    "## Saving the Random Forest Model used on the red_wine.csv"
   ]
  },
  {
   "cell_type": "code",
   "execution_count": 50,
   "id": "e0f2c60e",
   "metadata": {},
   "outputs": [
    {
     "data": {
      "text/plain": [
       "['random_forest_model.pkl']"
      ]
     },
     "execution_count": 50,
     "metadata": {},
     "output_type": "execute_result"
    }
   ],
   "source": [
    "import joblib\n",
    "\n",
    "# Train the Random Forest model (your existing code)\n",
    "# random_forest_model = RandomForestClassifier(n_estimators=100, random_state=42)\n",
    "# random_forest_model.fit(X_red, y_red)\n",
    "\n",
    "# Save the trained model to a file\n",
    "joblib.dump(random_forest_model, 'random_forest_model.pkl')\n"
   ]
  },
  {
   "cell_type": "markdown",
   "id": "17fd8ef5",
   "metadata": {},
   "source": [
    "## Using the Random Forest Model on the white_wine.csv to calculate Performance Metrics & AUC"
   ]
  },
  {
   "cell_type": "code",
   "execution_count": 51,
   "id": "fdb20d41",
   "metadata": {},
   "outputs": [
    {
     "name": "stdout",
     "output_type": "stream",
     "text": [
      "Accuracy on the White Wine dataset: 0.91\n",
      "AUC on the White Wine dataset: 0.92\n"
     ]
    }
   ],
   "source": [
    "import joblib\n",
    "\n",
    "# Train the Random Forest model (your existing code)\n",
    "# random_forest_model = RandomForestClassifier(n_estimators=100, random_state=42)\n",
    "# random_forest_model.fit(X, y)\n",
    "\n",
    "# Save the trained model to a file\n",
    "joblib.dump(random_forest_model, 'random_forest_model.pkl')\n",
    "import pandas as pd\n",
    "from sklearn.model_selection import train_test_split\n",
    "from sklearn.metrics import accuracy_score, roc_auc_score\n",
    "import joblib\n",
    "\n",
    "# Load the saved Random Forest model\n",
    "random_forest_model = joblib.load('random_forest_model.pkl')\n",
    "\n",
    "# Load the white wine dataset\n",
    "new_file_path = \"/Users/BenAbril/Desktop/IS 428/white_wine.csv\"\n",
    "white_wine_data = pd.read_csv(new_file_path)\n",
    "\n",
    "# Assuming you have a target column named 'type' in the white wine dataset,\n",
    "# replace it with the actual column name.\n",
    "target_column_name = 'type'\n",
    "\n",
    "# Extract features and target variable from the white wine dataset\n",
    "X_white = white_wine_data.drop(columns=[target_column_name])\n",
    "\n",
    "# Convert 'high' and 'low' labels to binary labels (0 and 1)\n",
    "y_white = white_wine_data[target_column_name].map({'high': 1, 'low': 0})\n",
    "\n",
    "# Use the loaded Random Forest model\n",
    "# Make predictions on the white wine dataset\n",
    "y_pred_white = random_forest_model.predict(X_white)\n",
    "\n",
    "# Calculate accuracy on the white wine dataset\n",
    "accuracy_white = accuracy_score(y_white, y_pred_white)\n",
    "print(f'Accuracy on the White Wine dataset: {accuracy_white:.2f}')\n",
    "\n",
    "# Calculate AUC on the white wine dataset\n",
    "# If your model does not provide probabilities, you can skip this step.\n",
    "y_pred_proba_white = random_forest_model.predict_proba(X_white)[:, 1]\n",
    "auc_white = roc_auc_score(y_white, y_pred_proba_white)\n",
    "print(f'AUC on the White Wine dataset: {auc_white:.2f}')\n",
    "\n"
   ]
  },
  {
   "cell_type": "code",
   "execution_count": null,
   "id": "8e1ca301",
   "metadata": {},
   "outputs": [],
   "source": []
  }
 ],
 "metadata": {
  "kernelspec": {
   "display_name": "Python 3 (ipykernel)",
   "language": "python",
   "name": "python3"
  },
  "language_info": {
   "codemirror_mode": {
    "name": "ipython",
    "version": 3
   },
   "file_extension": ".py",
   "mimetype": "text/x-python",
   "name": "python",
   "nbconvert_exporter": "python",
   "pygments_lexer": "ipython3",
   "version": "3.11.4"
  }
 },
 "nbformat": 4,
 "nbformat_minor": 5
}
